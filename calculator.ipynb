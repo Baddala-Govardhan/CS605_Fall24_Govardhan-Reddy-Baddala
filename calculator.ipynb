{
  "nbformat": 4,
  "nbformat_minor": 0,
  "metadata": {
    "colab": {
      "provenance": []
    },
    "kernelspec": {
      "name": "python3",
      "display_name": "Python 3"
    },
    "language_info": {
      "name": "python"
    }
  },
  "cells": [
    {
      "cell_type": "code",
      "source": [
        "def calculator():\n",
        "  while True:\n",
        "    print(\"add\")\n",
        "    print(\"sub\")\n",
        "    print(\"multiply\")\n",
        "    print(\"div\")\n",
        "    print(\"mod\")\n",
        "    print(\"return\")\n",
        "\n",
        "    operations = input(\"enter your operations: \")\n",
        "    if operations == 'return':\n",
        "      print(\"end\")\n",
        "      break\n",
        "\n",
        "    value1 = float(input(\"enter first number: \"))\n",
        "    value2 = float(input(\"enter second number: \"))\n",
        "\n",
        "    if operations == 'add':\n",
        "      result = value1+value2\n",
        "      operation = \"+\"\n",
        "\n",
        "    elif  operations == 'sub':\n",
        "      result = value1-value2\n",
        "      operation = \"-\"\n",
        "\n",
        "    elif operations == 'multiply':\n",
        "      result = value1*value2\n",
        "      operation = \"*\"\n",
        "\n",
        "    elif operations == 'div':\n",
        "      result = value1/value2\n",
        "      operation = \"/\"\n",
        "\n",
        "    elif operations == 'mod':\n",
        "      result = value1%value2\n",
        "      operation = \"%\"\n",
        "\n",
        "    else:\n",
        "      print(\"false\")\n",
        "      continue\n",
        "\n",
        "    print(f\"{value1} {operation} {value2} = {result}\")\n",
        "\n",
        "    response = input(\"Do youwant to perform another calculation (y/n): \")\n",
        "    if response.lower() != 'y':\n",
        "        print(\"end\")\n",
        "        break\n",
        "\n",
        "\n",
        "if __name__ == \"__main__\":\n",
        "    calculator()\n"
      ],
      "metadata": {
        "colab": {
          "base_uri": "https://localhost:8080/"
        },
        "id": "mEnM_FSRPrtV",
        "outputId": "91a2b8f5-b57d-4f00-b34e-6fb217394fd8"
      },
      "execution_count": 9,
      "outputs": [
        {
          "output_type": "stream",
          "name": "stdout",
          "text": [
            "add\n",
            "sub\n",
            "multiply\n",
            "div\n",
            "mod\n",
            "sqrt\n",
            "return\n",
            "enter your operations: add\n",
            "enter first number: 7\n",
            "enter second number: 9\n",
            "7.0 + 9.0 = 16.0\n",
            "Do youwant to perform another calculation (y/n): y\n",
            "add\n",
            "sub\n",
            "multiply\n",
            "div\n",
            "mod\n",
            "sqrt\n",
            "return\n",
            "enter your operations: return\n",
            "end\n"
          ]
        }
      ]
    }
  ]
}